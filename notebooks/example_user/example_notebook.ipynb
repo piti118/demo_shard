{
 "cells": [
  {
   "cell_type": "markdown",
   "metadata": {},
   "source": [
    "# Make sure you change the kernel to vacc_eff"
   ]
  },
  {
   "cell_type": "code",
   "execution_count": null,
   "metadata": {
    "ExecuteTime": {
     "end_time": "2019-12-19T09:28:04.877033Z",
     "start_time": "2019-12-19T09:28:04.846725Z"
    }
   },
   "outputs": [],
   "source": [
    "% load_ext autoreload\n",
    "% autoreload 2"
   ]
  },
  {
   "cell_type": "code",
   "execution_count": 7,
   "metadata": {
    "pycharm": {
     "name": "#%%\n"
    }
   },
   "outputs": [],
   "source": [
    "import os\n",
    "import random\n",
    "from contextlib import contextmanager\n",
    "from typing import IO, List\n",
    "\n",
    "\n",
    "@contextmanager\n",
    "def open_multiple(paths: List[str], mode: str) -> List[IO]:\n",
    "    files: List[IO] = []\n",
    "    try:\n",
    "        for path in paths:\n",
    "            files.append(open(path, mode))\n",
    "        yield files\n",
    "    finally:\n",
    "        for file in files:\n",
    "            file.close()\n",
    "\n",
    "\n",
    "def gen_data(n_file: int = 20, n_line: int = 100000) -> List[str]:\n",
    "    targets = [f'source{i}.txt' for i in range(n_file)]\n",
    "    for target in targets:\n",
    "        with open(target, 'w') as f:\n",
    "            for i_line in range(n_line):\n",
    "                f.write(str(random.randint(0, 100000000)))\n",
    "                f.write('\\n')\n",
    "    return targets\n",
    "\n",
    "\n",
    "def make_dir_if_needed(path):\n",
    "    d = os.path.dirname(path)\n",
    "    os.makedirs(d, exist_ok=True)\n",
    "\n",
    "\n",
    "def read_and_shard(path, target_folder, n_shard: int):\n",
    "    targets = [f'{target_folder}/{i}/shard_{path}' for i in range(n_shard)]\n",
    "    for target in targets:\n",
    "        make_dir_if_needed(target)\n",
    "\n",
    "    with open(path) as f_src:\n",
    "        with open_multiple(targets, 'w') as f_target:\n",
    "            for line in f_src:\n",
    "                index = int(line) % n_shard\n",
    "                f_target[index].write(line)"
   ]
  },
  {
   "cell_type": "code",
   "execution_count": 8,
   "outputs": [],
   "source": [
    "source = gen_data(5, 10000)\n",
    "read_and_shard(source[0], 'shard', n_shard=20)"
   ],
   "metadata": {
    "collapsed": false,
    "pycharm": {
     "name": "#%%\n"
    }
   }
  },
  {
   "cell_type": "code",
   "execution_count": null,
   "outputs": [],
   "source": [],
   "metadata": {
    "collapsed": false,
    "pycharm": {
     "name": "#%%\n"
    }
   }
  }
 ],
 "metadata": {
  "kernelspec": {
   "display_name": "Python 3",
   "language": "python",
   "name": "python3"
  },
  "language_info": {
   "codemirror_mode": {
    "name": "ipython",
    "version": 3
   },
   "file_extension": ".py",
   "mimetype": "text/x-python",
   "name": "python",
   "nbconvert_exporter": "python",
   "pygments_lexer": "ipython3",
   "version": "3.7.3"
  },
  "toc": {
   "colors": {
    "hover_highlight": "#DAA520",
    "running_highlight": "#FF0000",
    "selected_highlight": "#FFD700"
   },
   "moveMenuLeft": true,
   "nav_menu": {
    "height": "12px",
    "width": "252px"
   },
   "navigate_menu": true,
   "number_sections": false,
   "sideBar": true,
   "threshold": 4,
   "toc_cell": false,
   "toc_section_display": "block",
   "toc_window_display": false
  }
 },
 "nbformat": 4,
 "nbformat_minor": 2
}