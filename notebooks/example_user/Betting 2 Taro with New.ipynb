{
 "cells": [
  {
   "cell_type": "code",
   "execution_count": 1,
   "id": "9490a11b",
   "metadata": {
    "ExecuteTime": {
     "end_time": "2022-06-16T14:42:26.717756Z",
     "start_time": "2022-06-16T14:42:26.564949Z"
    }
   },
   "outputs": [],
   "source": [
    "import random\n",
    "from dataclasses import dataclass\n",
    "import numpy as np\n",
    "\n",
    "def gen_one_data(p, max_n=1000): # is broken prob\n",
    "    ret = []\n",
    "    for i in range(max_n):\n",
    "        if random.random() < p:\n",
    "            ret.append(1)\n",
    "            break\n",
    "        else:\n",
    "            ret.append(0)\n",
    "    return ret\n",
    "\n",
    "p = 1e-3\n",
    "# observe 500 days with p=1e-3\n",
    "samples = [gen_one_data(p=p, max_n=500) for i in range(1000)]\n"
   ]
  },
  {
   "cell_type": "code",
   "execution_count": null,
   "id": "fb389073",
   "metadata": {},
   "outputs": [],
   "source": []
  },
  {
   "cell_type": "code",
   "execution_count": 2,
   "id": "091cbb1b",
   "metadata": {
    "ExecuteTime": {
     "end_time": "2022-06-16T14:42:29.846117Z",
     "start_time": "2022-06-16T14:42:28.172713Z"
    }
   },
   "outputs": [
    {
     "name": "stdout",
     "output_type": "stream",
     "text": [
      "0.0010111865690033207\n"
     ]
    }
   ],
   "source": [
    "# estimate p the correct way\n",
    "total_survive_toss = 0\n",
    "total_dead_toss = 0\n",
    "for sample in samples:\n",
    "    s = np.array(sample) \n",
    "    total_survive_toss += sum(s==0)\n",
    "    total_dead_toss += sum(s==1)\n",
    "    \n",
    "total_toss = total_survive_toss + total_dead_toss\n",
    "print(total_dead_toss/total_toss)"
   ]
  },
  {
   "cell_type": "code",
   "execution_count": 4,
   "id": "178066b0",
   "metadata": {
    "ExecuteTime": {
     "end_time": "2022-06-16T14:44:02.941001Z",
     "start_time": "2022-06-16T14:44:02.515844Z"
    }
   },
   "outputs": [
    {
     "name": "stdout",
     "output_type": "stream",
     "text": [
      "398\n",
      "0.0042981954058986796\n"
     ]
    }
   ],
   "source": [
    "#but if you throw away all ppl survive at day 500 ppl you will overestimate p\n",
    "\n",
    "# dead only\n",
    "\n",
    "dead = [s for s in samples if s[-1]==1]\n",
    "print(len(dead))\n",
    "\n",
    "total_survive_toss = 0\n",
    "total_dead_toss = 0\n",
    "for sample in dead:\n",
    "    s = np.array(sample) \n",
    "    total_survive_toss += sum(s==0)\n",
    "    total_dead_toss += sum(s==1)\n",
    "    \n",
    "total_toss = total_survive_toss + total_dead_toss\n",
    "print(total_dead_toss/total_toss)\n"
   ]
  },
  {
   "cell_type": "code",
   "execution_count": null,
   "id": "cfee0e8e",
   "metadata": {},
   "outputs": [],
   "source": []
  }
 ],
 "metadata": {
  "hide_input": false,
  "kernelspec": {
   "display_name": "Python 3",
   "language": "python",
   "name": "python3"
  },
  "language_info": {
   "codemirror_mode": {
    "name": "ipython",
    "version": 3
   },
   "file_extension": ".py",
   "mimetype": "text/x-python",
   "name": "python",
   "nbconvert_exporter": "python",
   "pygments_lexer": "ipython3",
   "version": "3.7.3"
  },
  "toc": {
   "colors": {
    "hover_highlight": "#DAA520",
    "running_highlight": "#FF0000",
    "selected_highlight": "#FFD700"
   },
   "moveMenuLeft": true,
   "nav_menu": {
    "height": "11.9886px",
    "width": "251.989px"
   },
   "navigate_menu": true,
   "number_sections": false,
   "sideBar": true,
   "threshold": 4,
   "toc_cell": false,
   "toc_section_display": "block",
   "toc_window_display": false
  }
 },
 "nbformat": 4,
 "nbformat_minor": 5
}
